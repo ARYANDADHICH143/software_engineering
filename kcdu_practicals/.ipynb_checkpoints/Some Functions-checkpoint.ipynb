{
 "cells": [
  {
   "cell_type": "markdown",
   "metadata": {},
   "source": [
    "** Factorial of Number **"
   ]
  },
  {
   "cell_type": "code",
   "execution_count": 1,
   "metadata": {
    "collapsed": true
   },
   "outputs": [],
   "source": [
    "# Recursive Method to find the factorial of  number\n",
    "\n",
    "def factorial_of_number(number):\n",
    "    if number == 0 or number == 1:\n",
    "        return 1\n",
    "    else:\n",
    "        return number * factorial_of_number(number - 1)"
   ]
  },
  {
   "cell_type": "code",
   "execution_count": 4,
   "metadata": {},
   "outputs": [
    {
     "name": "stdout",
     "output_type": "stream",
     "text": [
      "Enter the whole number: 1\n",
      "factorial of 1 is 1\n"
     ]
    }
   ],
   "source": [
    "n = int(input(\"Enter the whole number: \"))\n",
    "print(\"factorial of {} is {}\".format(n, factorial_of_number(n)))"
   ]
  },
  {
   "cell_type": "code",
   "execution_count": 8,
   "metadata": {
    "collapsed": true
   },
   "outputs": [],
   "source": [
    "# Non- Recursive Method to find the factorial of number (By using third variable)\n",
    "\n",
    "def factorial_of_number_nr(number):\n",
    "    result = 1\n",
    "    if number == 0:\n",
    "        return result\n",
    "    else:\n",
    "        i  = 1\n",
    "        while i <= number:\n",
    "            result = result*i\n",
    "            i = i + 1\n",
    "        return result\n"
   ]
  },
  {
   "cell_type": "code",
   "execution_count": 10,
   "metadata": {},
   "outputs": [
    {
     "name": "stdout",
     "output_type": "stream",
     "text": [
      "Enter the whole number: 5\n",
      "factorial of 5 is 120\n"
     ]
    }
   ],
   "source": [
    "n = int(input(\"Enter the whole number: \"))\n",
    "print(\"factorial of {} is {}\".format(n, factorial_of_number_nr(n)))"
   ]
  },
  {
   "cell_type": "code",
   "execution_count": 11,
   "metadata": {
    "collapsed": true
   },
   "outputs": [],
   "source": [
    "# Non- Recursive Method to find the factorial of number (Without using the third variable)\n",
    "\n",
    "def factorial_of_number_nr1(number):\n",
    "    result = 1\n",
    "    if number == 0:\n",
    "        return result\n",
    "    else:\n",
    "        while number > 0:\n",
    "            result = result*number\n",
    "            number = number - 1\n",
    "        return result"
   ]
  },
  {
   "cell_type": "code",
   "execution_count": 15,
   "metadata": {},
   "outputs": [
    {
     "name": "stdout",
     "output_type": "stream",
     "text": [
      "Enter the whole number: 5\n",
      "factorial of 5 is 120\n"
     ]
    }
   ],
   "source": [
    "n = int(input(\"Enter the whole number: \"))\n",
    "print(\"factorial of {} is {}\".format(n, factorial_of_number_nr1(n)))"
   ]
  },
  {
   "cell_type": "markdown",
   "metadata": {},
   "source": [
    "** WAF to check whether an input number is prime or not **"
   ]
  },
  {
   "cell_type": "code",
   "execution_count": null,
   "metadata": {
    "collapsed": true
   },
   "outputs": [],
   "source": [
    "def prime_check(number):\n",
    "    msg = \"\"\n",
    "    if number == 0 or number == 1:\n",
    "        msg = \"Etered number {} is a prime number\".format(number)\n",
    "    else:\n",
    "        test = False\n",
    "        for i in range(2, number - 1):\n",
    "            if number % i == 0:\n",
    "                test = True\n",
    "        if test == True:\n",
    "            msg = \"Etered number {} is not a prime number\".format(number)\n",
    "        else:\n",
    "            msg = \"Etered number {} is a prime number\".format(number)\n",
    "    return msg"
   ]
  },
  {
   "cell_type": "code",
   "execution_count": 4,
   "metadata": {},
   "outputs": [
    {
     "data": {
      "text/plain": [
       "2"
      ]
     },
     "execution_count": 4,
     "metadata": {},
     "output_type": "execute_result"
    }
   ],
   "source": [
    "7%5"
   ]
  },
  {
   "cell_type": "code",
   "execution_count": null,
   "metadata": {
    "collapsed": true
   },
   "outputs": [],
   "source": []
  },
  {
   "cell_type": "code",
   "execution_count": null,
   "metadata": {
    "collapsed": true
   },
   "outputs": [],
   "source": []
  }
 ],
 "metadata": {
  "kernelspec": {
   "display_name": "Python 3",
   "language": "python",
   "name": "python3"
  },
  "language_info": {
   "codemirror_mode": {
    "name": "ipython",
    "version": 3
   },
   "file_extension": ".py",
   "mimetype": "text/x-python",
   "name": "python",
   "nbconvert_exporter": "python",
   "pygments_lexer": "ipython3",
   "version": "3.6.2"
  }
 },
 "nbformat": 4,
 "nbformat_minor": 2
}
